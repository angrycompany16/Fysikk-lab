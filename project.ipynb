{
 "cells": [
  {
   "cell_type": "markdown",
   "id": "65c88b08-8adf-4998-be6e-dd1a43db46c2",
   "metadata": {},
   "source": [
    "# Labrapport som Jupyter Notebook på fysikklab våren 2023\n",
    "Synnøve Arnesen, Dina-Madelen Sandlie Hegna, Andreas Teodor Nysæter, Simen Kristoffer Bedringås, David Persson<br>\n",
    "Institutt for Teknisk kybernetikk, NTNU\n",
    "Institutt for Elektroniske systemer, NTNU"
   ]
  },
  {
   "cell_type": "markdown",
   "id": "c768bc29-6c3b-4f31-b896-877254d81848",
   "metadata": {},
   "source": [
    "## Introduksjon\n",
    "\n",
    "Dette labforsøket går ut på å studere en kule som ruller (uten å gli) på en berg-og-dal-bane. Forsøket har blitt simulert numerisk i python hvor programmet har regnet ut og plottet relevante størrelser som blant annet baneform, farten til kulen v(x) og kulens kinetiske energi K. Forsøket har også blitt gjennomført fysisk. Her har rulleforsøkene blitt filmet og kulens bevegelse er blitt analysert i sporingsprogrammet “Tracker” [1]. Ved hjelp av grunnleggende mekanikk og loven om energibevaring har det vært mulig å beregne blant annet kulens totale kinetiske energi K. Den grunnleggende mekanikken som er benyttet i dette forsøket er basert på Newtons tre lover som ble presentert i 1686 i “Principia Mathematica Philosophiae Naturalis.” [2].\n",
    "Til slutt har resultatene fra simuleringen og det fysiske forsøket blitt sammenlignet og diskutert.\n",
    "\n"
   ]
  },
  {
   "cell_type": "markdown",
   "id": "c776efaa-105e-4587-85d0-3e10778fda0b",
   "metadata": {},
   "source": [
    "## Teori\n",
    "Når en kule ruller ned en bane med kjent form gitt av $y(x)$ og det antas at mekanisk energi er bevart, vil det være mulig å regne ut størrelser som hastighet, friksjonskraft mellom kula og overflaten, og rulletiden (med hjelp av numerikk). For å regne ut disse størrelsene må det også antas at den første- og andrederiverte av $y$, altså $y’$ og $y’’$ er kjent.\n",
    "\n",
    "\n",
    "Kulas treghetsmoment mhp. rotasjonsaksen(som går gjennom massesenteret CM) er gitt ved $$I_0 = cmr^2.$$\n",
    "Her er $m$ kulas masse, $r$ kulas radius og $c$ en konstant som kan settes til $\\frac{2}{5}$ under antagelsen at kula er ei kompakt kule med uniform massefordeling. Videre er det nyttig å anta at banens krumningsradius er mye større enn kulas radius, siden dette medfører at kulas massesenter følger samme form som banen, bare forskjøvet i y-retning.\n",
    "\n",
    "\n",
    "I kulas startpunkt $x = 0$ er høyden $y(0) = y_0$. Det kan antas at kula starter i ro, og dermed blir den mekaniske energien\n",
    "$$E = U_0 = mgy_0.$$\n",
    "Her er nullpunktet for $U$ definert som $y = 0$. Kulas rotasjonsenergi er gitt ved $E_{rot}=1/2I\\omega^2$, og med innsetting for $c$ og $\\omega = v/r$ blir dette til $$K = \\frac{1 + c}{2}mv^2,$$ der $v$ er hastigheten. Bevaring av energi gir\n",
    "$$U_0 = K + mgy,$$\n",
    "$$\\iff v = \\sqrt{\\frac{2g (y_0 - y)}{1 + c}}$$\n",
    "i et punkt på banen der høyden er $y$ og hastigheten er $v$. Siden $y$ er en funksjon av posisjonen $x$, kan også farten betraktes som en funksjon $v(x)$.\n",
    "\n",
    "\n",
    "Krumningen (med fortegn), som også er den inverse av krumningsradiusen til grafen $y(x)$ er gitt ved\n",
    "$$\\kappa = \\frac{y’’}{(1 + (y’)^2)^{\\frac{3}{2}}},$$\n",
    "som umiddelbart gir sentripetalakselerasjonen\n",
    "$$a_\\perp= v^2/R =  v^2\\kappa = \\frac{2g (y_0 - y)}{1 + c} \\frac{y’’}{(1 + (y’)^2)^{\\frac{3}{2}}}$$\n",
    "Fortegnet til $\\kappa$ avhenger av banens krumning slik at $\\kappa$ er positiv når banen krummer oppover, og negativ når banen krummer nedover ($\\kappa$ har samme fortegn som $y’’$). Dette vil også bli fortegnet til $a_\\perp$, som er konsistent med å ha positiv retning oppover.\n",
    "\n",
    "med innsatt $c=\\frac{2}{5}$ blir hastigheten\n",
    "\n",
    "$$\\sqrt{\\frac{10g(y_0-y)}{7}}.$$\n",
    "\n",
    "Newtons lov, sett fra et koordinatsystem som står normalt på banen og med normalkraften som positiv retning i y-aksen gir oss\n",
    "\n",
    "$$N - mg \\cos{\\beta} = ma_{\\perp}.$$\n",
    "\n",
    "Her er $\\beta$ banens helningsvinkel. Dette kan omformes til\n",
    "\n",
    "$$N = m(g\\cos{\\beta} + a_{\\perp}).$$\n",
    "\n",
    "Dette viser at når banen peker oppover, er $a_{\\perp} > 0$, altså peker $a_{\\perp}$ i samme retning som $N$, som gjør at $N$ blir større enn $mg\\cos{\\beta}$. Når banen peker nedover, skjer det motsatte, altså er $a_{\\perp} < 0$ og peker i motsatt retning av $N$, og $N$ blir mindre enn $mg\\cos{\\beta}$."
   ]
  },
  {
   "cell_type": "code",
   "execution_count": 6,
   "id": "c373cade-ba88-44b8-91be-b0401089572e",
   "metadata": {},
   "outputs": [
    {
     "data": {
      "image/png": "[encoded data removed]",
      "text/plain": [
       "<IPython.core.display.Image object>"
      ]
     },
     "execution_count": 6,
     "metadata": {
      "image/png": {
       "width": 300
      }
     },
     "output_type": "execute_result"
    }
   ],
   "source": [
    "from IPython import display\n",
    "display.Image(\"./images/krefter.png\", width=300)"
   ]
  },
  {
   "cell_type": "markdown",
   "id": "40908728-1448-461d-828e-04e90cc53e53",
   "metadata": {},
   "source": [
    "<b>Figur 1.</b> Kule som ruller på et krumt underlag. Her er $v$ kulas fart,\n",
    "$a$ er baneakselerasjon, $a_\\perp$ er sentripetalakselerasjon, $Mg$ er tyngdekraft,\n",
    "$f$ er friksjonskraft og $N$ er normalkraft. <br><br>"
   ]
  },
  {
   "cell_type": "markdown",
   "id": "64aa242e",
   "metadata": {},
   "source": [
    "\n",
    "Den siste størrelsen som kan være nyttig å utlede nå er den statiske friksjonskraften fra banen på kula. Ved valg av helningsvinkelen $\\beta$ slik at $\\beta < 0$ når banen heller nedover, og $\\beta > 0$ når banen heller oppover får stigningstallet \n",
    "\n",
    "$$ y' = \\frac{dy}{dx} = \\tan{\\beta} $$\n",
    "\n",
    "riktig fortegn. De tangentielle kreftene er friksjonskraften $F$ og tyngdekraftens horisontale komponent $-mg\\sin{\\beta}$. Hvis banen heller nedover blir $\\beta < 0$, $F < 0$ og $a = \\frac{dv}{dt} > 0$. N2 gir da \n",
    "\n",
    "$$ -mg\\sin{\\beta} + F = ma. $$\n",
    "\n",
    "Hvis banen derimot heller nedover blir $\\beta > 0$, $F > 0$, og $a = \\frac{dv}{dt} < 0$. N2 gir da\n",
    "\n",
    "$$ mg\\sin{\\beta} - F = -ma, $$\n",
    "\n",
    "altså er ligningen lik uavhengig av helningen til banen. Baneakselerasjonen kan regnes ut som den deriverte av banefarten $v(y) = \\sqrt{\\frac{2g (y_0 - y)}{1 + c}}$, altså\n",
    "\n",
    "$$ a = -\\frac{g \\sin{\\beta}}{1 + c}. $$\n",
    "\n",
    "Her brukes $\\frac{dy}{dt} = v_y = -v\\sin{\\beta}$. Med $c = \\frac{2}{5}$ blir $a=-\\frac{5g\\sin{\\beta}}{7}$. Innsetting gir \n",
    "\n",
    "$$F = ma + mg\\sin{beta} = \\frac{c}{1 + c}mg\\sin{\\beta}, $$\n",
    "\n",
    "eller $F = \\frac{2mg\\sin{\\beta}}{7}$ for kulen. En forutsetning som har blitt tatt er at kula ruller rent og ikke slurer på underlaget. Det betyr at den statiske friksjonskraften $F$ ikke kan overstige den maksimale verdien $|F|=\\mu_s|N|$.\n",
    "\n",
    "#### Tidsutvikling\n",
    "\n",
    "Ingen av ligningene hittils har inneholdt tiden på noe vis, som følger av at utgangspunktet har vært bevaring av mekanisk energi. For å finne kulas tidsutvikling er det ofte nødvendig å gå helt tilbake til Newtons andre lov og bruke numerikk, men i tilfellet hvor kula ruller på an bane med bestemt form $y(x)$ kan det gjøres enklere ved å bruke at hastigheten $v$ i hvert punkt $y$ ver gitt vedo $v = \\sqrt{\\frac{10g(y_0-y)}{7}}$. Tiden $dt$ som brukes på en forflytning $dx$ er da gitt direkte ved $dt = \\frac{dx}{v_x}$\n",
    "\n",
    "Med $k + 1$ jevnt fordelte punkter $\\{x_0, x_1, ... x_{k - 1}, x_k\\}$, og tilsvarende banehøyder definert er hastigheten $v_n$ og helningsvinkelen $\\beta_n$ i posisjonen $(x_n, y_n)$ kjent. Det er da mulig å regne ut tidssteget $\\Delta t_n$ mellom $x_{n-1}$ og $x_n (n=1,2,...k).$ Horisontalkomponenten til hastigheten i posisjon $x_n$ er gitt ved $v_{x,n} = v_n\\cos{\\beta}$. Den gjennomsnittle horisontalkomponenten til hastigheten på intervall nr. $n$ er gitt ved\n",
    "\n",
    "$$ \\langle v_x\\rangle _n = \\frac{1}{2}(v_{x,n - 1} + v_{x,n}) .$$"
   ]
  },
  {
   "cell_type": "code",
   "execution_count": 8,
   "id": "87d65c2c",
   "metadata": {},
   "outputs": [
    {
     "data": {
      "image/png": "[encoded data removed]",
      "text/plain": [
       "<IPython.core.display.Image object>"
      ]
     },
     "execution_count": 8,
     "metadata": {
      "image/png": {
       "width": 500
      }
     },
     "output_type": "execute_result"
    }
   ],
   "source": [
    "display.Image(\"./images/ballhastighet.png\", width=500)"
   ]
  },
  {
   "cell_type": "markdown",
   "id": "a6637936",
   "metadata": {},
   "source": [
    "<b>Figur 2.</b>  Ballens gjennomsnittshastighet på intervall $n$. Her er $v_n$ den nåværende farten, v_{n+1} farten i neste tidssteg, $\\langle v \\rangle _n$ gjennomsnittsfarten i intervallet n, og $\\langle v_x \\rangle _n$ gjennomsnittsfarten i x-retning i intervallet n."
   ]
  },
  {
   "cell_type": "markdown",
   "id": "4d37b450",
   "metadata": {},
   "source": [
    "\n",
    "Innsettting i definisjonen for $\\Delta t_n$ fra tidligere gir da \n",
    "\n",
    "$$ \\Delta t_n = \\frac{\\Delta x_n}{\\langle v_x\\rangle _n} = \\frac{2 \\Delta x_n}{v_{x,n - 1} + v_{x,n}}. $$\n",
    "\n",
    "Det horisontale steget $\\Delta x_n$ vil alltid bare være x_n - x_{n - 1}. Dette gir til slutt at kula starter i posisjonen $(x_0, y_0)$ med starthastighet $v_0 = 0$ ved tidspunkt $t_0 = 0$ og passerer posisjonene $(x_n, y_n)$ med hastighet $v_n$ og ved tidspunkt\n",
    "\n",
    "$$ t_n = \\sum_{j = 1}^{n} \\Delta t_j, \\qquad  n = 1, ... ,k $$\n",
    "\n",
    "Dette brukes selvfølgelig til å estimere tidsforløpet numerisk.\n",
    "\n",
    "\n",
    "\n",
    "\n",
    "\n",
    "\n",
    "<!-- -----------------------------------------------------------------\n",
    "\n",
    "\n",
    "\n",
    "\n",
    "Her presenteres relevant teori nødvendig for å lese resten av rapporten. Jupyter notebook støtter LaTeX-kode, så dere kan inkludere fint formaterte ligninger her. For eksempel har vi sett at baneakselerasjonen til ei kompakt kule som ruller på et krumt underlag uten å slure (gli) er gitt ved\n",
    "$$a = -\\frac{5g\\sin{\\beta}}{7},\\label{eq1}\\tag{1}$$\n",
    "der $g$ er tyngdens akselerasjon og $\\beta$ er banens helningsvinkel. Her forklarer vi alle nye størrelser som blir innført med ord. <br>\n",
    "For at dette skal ha god flyt, skal ligningene kunne leses som en naturlig del av setningen, slik som ovenfor. \n",
    "\n",
    "Teoridelen inneholder ikke referanser til selve forsøket. Den er generell og kan leses isolert fra resten av rapporten.\n",
    "\n",
    "Her vil det ofte være naturlig å inkludere en eller flere forklarende figurer. Disse skal dere lage selv, for eksempel ved hjelp av [Inkscape](https://inkscape.org/) som er et nokså brukervennlig program for å lage vektorgrafikk. Her er et eksempel på en slik figur: -->\n"
   ]
  },
  {
   "cell_type": "markdown",
   "id": "c0c6cdee-c6b5-4c32-afd6-0a8e42defab1",
   "metadata": {},
   "source": [
    "## Metode\n",
    "\n",
    "Nødvendig utstyr for eksperiment:\n",
    "- Vater\n",
    "- Kule\n",
    "- Berg-og-dal-bane\n",
    "- Merkepenner\n",
    "- Kamerastativ\n",
    "\n",
    "Eksperimentet går ut på at en kule skal rulle ned en kjent bane med 8 skruehøyder. Skruehøydene i dette prosjektet kan man finne i figur 3. Banen er tildelt av NTNU og skruehøydene er randomisert for hver gruppe. Forsøket skal filmes med et telefonkamera som er montert i et stativ med en standard filmkvalitet på 1080p og en bildefrekvens på 30. Det er viktig at både banen og kameraet er i vater. Kulens initielle fart er 0 meter i sekundet og startpunktet er toppunktet på banen. Hvert av forsøkene er en videosnutt av kulen som ruller ned banen, hvor hver videosnutt starter i det kulen blir sluppet, og slutter når kulen er på sluttpunktet i banen.\n",
    "\n",
    "Prosjektet er gjort over 4 økter hvor hver økt fokuserer på en hoveddel av oppgaven. Den første økten brukes for å organisere gruppen og finne en samarbeidsplattform. I dette prosjektet er det brukt Git. Økt 2 er for numerikk og beregninger av verdier som skal sammenlignes med resultater fra økt 3. I økt 3 gjennomføres eksperimentet. Eksperimentet blir filmet og kjørt gjennom analyseverktøyet Tracker for å hente ut resultater. I økt 4 skal resultater fra økt 2 og 3 analyseres. \n",
    "\n",
    "Første økt ble brukt til å sette opp en samarbeidsplattform for gruppen, og sørge for at all nødvendig programvare for resten av prosjektet er lastet ned. Alle deltakerne skal sette opp en Github profil, en av deltakerne lager et prosjekt som deles med resten av gruppen. Git-programvaren lastes ned til prosjekt deltagernes datamaskiner. Dette er brukt i samsvar med Visual Studio Code. Visual Studio Code er et koderedigeringsprogram som lar prosjektdeltakerne skrive og kjøre kode i Python og Jupiter Lab. Deretter er det brukt Git terminal kode som “git push”, “git init”, “git add” og “git pull” for å distribuere kode og verdier.  Verktøyene brukt for kode redigering, distribusjon og utregninger i prosjektet er GitHub, Visual Studio Code og Tracker.\n",
    "\n",
    "Økt 2 er for å regne ut nødvendige teoretiske verdier. For at prosjektet skal være individuelt er baneformen randomisert for hver gruppe. For å finne baneformen legges randomiserte verdier for skruehøydene inn i funksjonen CubicSpline, dette er en funksjon som ligger i interpolate-biblioteket i SciPy. Etter baneformen er satt regnes de teoretiske verdiene til fart v(x), sluttfart, helningsvinkel, normalkraft og friksjonskraft. Verdiene ble regnet ut etter instruksjoner beskrevet i teoridelen. De teoretiske verdiene ble regnet ut med bruk av mattebiblioteket Numpy og grafer plottes ved hjelp av graf- og mattebiblioteket Matplotlib. Tidsutvikling ble brukt for å finne den totale rulletiden til ballen. For å finne tidsutviklingen ble Euler-eksplisitt brukt. I Python ble denne metoden implementert ved bruk av en for-løkke som skrev en Numpy array. Eventuelle tidsutviklinger, verdier og grafer noteres ned for å senere bli sammenlignet med eksperimentets verdier.\n",
    "\n",
    "\n",
    "Den tredje økten har hovedfokuset på selve eksperimentet. Skruehøydene stilles inn på utdelte baner og det filmes en testvideo for å sørge for at ballen følges i “sporingsprogrammet” Tracker. Når Tracker er konfigurert filmes forsøket ti ganger. Rulletid, sluttfart, total kinetisk energi i sluttpunkt og tapet av den kinetiske energien skal regnes ut for hvert forsøk, her er det sentralt å bruke Tracker for å hente nøyaktige verdier. Tracker fungerer slik at den kan se på videoen og lokalisere punktverdier hvor kulen er. Etter disse verdiene er funnet skal det regnes ut en middelverdi og standardfeil for alt. Middelverdien og standardfeilen for forsøkene sammenlignes med de teoretiske verdiene funnet i økt 2. Det ble ikke gjort noen overordnede modifikasjoner til utførelsen av forsøket, eller innhentingen av resultater som var beskrevet i oppgaveteksten. \n",
    "\n",
    "For å finne rulletiden, den kinetiske energien i sluttpunktet og tapet av den kinetiske energien ble de målte verdiene fra de 10 forsøkene satt inn i hver sin Numpy array. Middelverdiene ble funnet ved å bruke numpy.average, som finner en gjennomsnittsverdi av hva som er i arrayen. For å finne standardavvik ble funksjonen numpy.std() brukt, denne funksjonen finner standardavviket til det i funksjonen, verdien ble deretter delt på kvadratroten av antall forsøk som ble gjort. De gjeldende sifrene i resultatene var fem. Under eksperimentet ble det ikke gjort overordnede modifikasjoner til utregning. \n",
    "\n",
    "I økt 4 ble resultater fra eksperimentet sammenlignet med teoretiske verdier. Plottingen av grafene skjedde ved hjelp av grafverktøyet til Matplotlib og Numpy arrays. For å sammenligne disse verdiene ble de teoretiske verdiene for baneform, hastighet, slutthastighet, friksjonskraft, normalkraft og friksjonskoeffisient plottet mot middelverdiene til de 10 utførte forsøkene.  \n"
   ]
  },
  {
   "cell_type": "markdown",
   "id": "f152717b-9c73-464c-8bcc-4d5368ab8cf9",
   "metadata": {},
   "source": [
    "## Resultater\n",
    "Den teoretiske baneformen $y(x)$ med tilfeldig genererte skruhøyder avbildet i figur 3, er opphavet til de forventede resultatene av eksperimentet. De samme skruhøydene ble rekonstruert i den fysiske baneformen $y_{E}(x)$ for å konstantere eksperimentelle resultater."
   ]
  },
  {
   "cell_type": "code",
   "execution_count": 1,
   "id": "9557e937",
   "metadata": {},
   "outputs": [],
   "source": [
    "# figur 3"
   ]
  },
  {
   "cell_type": "markdown",
   "id": "92a18b54",
   "metadata": {},
   "source": [
    "Den teoretiske rulletiden på kula var 1.478 $s$ og ble kalkulert med /ref(ligning). Gjennomsnittsrulletiden for kulen ved de 10 forsøkene ble $t_{E}$ = (1.3067 \\pm 0.01227) $s$. Usikkerheten er her standardfeilen.\n",
    "\n",
    "Tabell 1 viser slutthastighetene ved de 10 eksperimentelle forsøkene, sammen med den teoretiske kalkulerte slutthastigheten $v$ = 1.66998 $s$. Den gjennomsnittlige slutthastigheten med standardfeil blir $v_{E}$ = (1.7075 \\pm 0.01663)$m/s$. Hastigheten $v_{E}(t)$ for et av de ti forsøkene er plottet med referansehastigheten $v(t)$ i figur 4."
   ]
  },
  {
   "cell_type": "code",
   "execution_count": 2,
   "id": "f2d8199c",
   "metadata": {},
   "outputs": [],
   "source": [
    "# tabell 1\n",
    "# figur 4"
   ]
  },
  {
   "cell_type": "markdown",
   "id": "ba8ff7ef",
   "metadata": {},
   "source": [
    "Middelverdien med standardfeil for den kinetiske energien i de 10 eksperimentelle forsøkene blir kalkulert til $Ekin_{E}$ = (0.04524 \\pm 0.00089) $J$. Tabell 2 viser de 10 forsøkene med den teoretiske referansen $Ekin$ = 0.0605179 $J$. Den potensielle energien ved starten av rullebanen er $Epot$ = 0.06051789 $J$. Med middelverdien for den kinetiske energien og den potensielle energien, kalkuleres middelverdien for tap av mekaniskenergi til $Etap$ = (0.01528  \\pm 0.00089) $J$.\n"
   ]
  },
  {
   "cell_type": "code",
   "execution_count": null,
   "id": "32e1ab1c",
   "metadata": {},
   "outputs": [],
   "source": [
    "# tabell 2"
   ]
  },
  {
   "cell_type": "markdown",
   "id": "76071c28",
   "metadata": {},
   "source": [
    "Friksjonskraften $f$ gjennom hele banen er vist i figur 5. Normalkraften  $N$ vises i figur 6. Forholdet mellom friksjonskraften og normalkraften med hensyn på posisjonen i x-retning gir friksjonskoeffisienten $μ$, presentert i figur 7."
   ]
  },
  {
   "cell_type": "code",
   "execution_count": 3,
   "id": "467d52ce",
   "metadata": {},
   "outputs": [],
   "source": [
    "#Figur 5\n",
    "#Figur 6\n",
    "#Figur 7"
   ]
  },
  {
   "cell_type": "markdown",
   "id": "36daaacf-50d3-4562-97f8-ed9c1cd58dff",
   "metadata": {},
   "source": [
    "## Diskusjon\n",
    "\n",
    "#### Usikkerhetsanalyse og en diskusjon av resultater fra numerikk og eksperimenter\n",
    "\n",
    "Den eksperimentelle utformingen av baneformen y(x) vil ha stor innvirkning på kulens hastighet v(x). Ut ifra Figur “Banens form” ser vi at det er en vesentlig differanse mellom eksperimentell og teoretisk baneform, dette kan skyldes at forsøkene ble filmet med en dårlig kameravinkel som igjen kan ha ført til at videoanalyseverktøyet “Tracker” ikke klarte å modellere banen riktig. Grafen vist i Figur [banens form] tyder på at eksperimentell baneform er forskjøvet med ca. 200 mm. Dette medfører at påfølgende graf for eksperimentell hastighet vist i Figur [hastighet] også er forskjøvet i forhold til teoretisk hastighet. \n",
    "\n",
    "Baneformen y(x) vil også påvirke størrelsen N(x). Ved x = 600 mm (y(x) sitt bunnpunkt) vil kula samtidig være ved v(x) sitt eneste toppunkt. Høy hastighet ved et lavt punkt tilsier at kula krever større sentripetal kraft for å følge baneformens krumning. Dette samsvarer med grafen til N(x), hvor x=600 tilsvarer et toppunkt, her vil normalkraften være større enn kulas vekt, fordi den balanserer vekten og den nødvendige sentripetalkraften. Det motsatte tilfellet vil være ved toppunktet til y(x), hvor N(x) tilsvarer -1.3 N, som er mindre enn kulas tyngde. Dette skyldes at kun en del av tyngden virker som normalkraft, mens resten bidrar til den sentripetale banen. \n",
    "\n",
    "Fra Figur [friksjonskoeffisient] ser vi hvordan friksjonskoeffisienten $\\mu_s$ varierer med posisjonen x. Her ser vi at den høyeste beregnede friksjonskoeffisienten $\\mu$ er på ca. 0.12. Den statiske friksjonskoeffisienten $\\mu_s$ er anslått til å være 0.4. Dermed er det rimelig å anta at den beregnede friksjonskraften $f$ ikke overstiger sin maksimale verdi gitt ved $f = \\mu_s |N|$ og at antagelsen om ren rulling er oppfylt. \n",
    "\n",
    "Som presentert i Tabell [rulletid] er den målte rulletiden til kulen 1.31s, med en standardfeil på +-0.0123s. Den beregnede rulletiden er på 1.48s. Dette avviket kan skyldes at den teoretiske og den eksperimentelle baneformen ikke samsvarer fullstendig. En annen årsak kan være at kulen sin startfart $v_0 > 0$ eller at det er gjort målefeil. Dersom dette avviket skyldes målefeil er trolig den samme feilen gjort i hvert forsøk siden standardfeilen er såpass liten. Med utgangspunkt i beregnet rulletid kan en konkludere med at den målte rulletiden er rimelig.\n",
    "\n",
    "Som vist i tabell 2 får vi et et tap av kinetisk energi på 0.01528 J. Med tanke på at overflaten til kulebanen er svært jevn (ref. friksjonskoeffisienten i figur 7) kan man anta at tapet av kinetisk energi er rimelig. En tilhørende standardfeil på +-0.00089 J tilsier at det er lite spredning i forsøkene. Eventuelle feilkilder knyttet til lave standardfeil kan være systematiske feil, som at kulens startfart $v_0 > 0$. \n",
    "\n",
    "\n",
    "\n",
    "\n",
    "<!-- \n",
    "Her diskuteres resultatene, både de numeriske og de eksperimentelle. <br>\n",
    "\n",
    "- Kan forskjellene mellom numerisk og eksperimentell hastighet $v(x)$ forklares med utgangspunkt i\n",
    "forskjellene mellom numerisk og eksperimentell baneform $y(x)$?\n",
    "- Er grafene for $v(x)$, $N(x)$ og $f(x)$ rimelige med utgangspunkt i baneformen $y(x)$? \n",
    "Vurder spesielt topp-punkt, bunnpunkt(er) og vendepunkter.\n",
    "- Er det sannsynlig at baneformen gir ren rulling? Dette avhenger av at beregnet friksjonskraft hele veien er mindre enn maksimal statisk friksjonskraft, som er gitt ved $\\mu_s N$. Grafen for $|f(x)/N(x)|$ gir grunnlag for å diskutere dette.\n",
    "- Er målt rulletid rimelig, med utgangspunkt i beregnet rulletid?\n",
    "- Er målt tap i mekanisk energi rimelig? Diskuter feilkilder. -->"
   ]
  },
  {
   "cell_type": "markdown",
   "id": "18d783c0-3fdc-496a-9e3c-2c9643c8ea24",
   "metadata": {},
   "source": [
    "## Konklusjon\n",
    "Det har blitt gjennomført et forsøk hvor en kule har blitt sluppet gjennom en kulebane. I forkant av forsøket ble det gjennomført teoretiske beregninger for å simulere oppførselen til kula, disse beregningene skulle sammenlignes med eksperimentelle målinger. Den teoretiske rulletiden var 1.48 s, mens den eksperimentelle rulletiden ble målt til 1.31 s. Den teoretiske sluttfarten var 1.67 m/s, mens den eksperimentelle sluttfarten ble målt til 1.71 m/s, med tilhørende standardfeil 0.016 m/s. Tap av kinetisk energi tilsvarte  0.01528 J med standardfeil +-0.00089 J. "
   ]
  },
  {
   "cell_type": "markdown",
   "id": "20c04579-d9f8-4c44-9d61-16430a1df4ed",
   "metadata": {},
   "source": [
    "## Referanser\n",
    "\n",
    "[1] Tracker Video Analysis and Modeling Tool, https://physlets.org/tracker/, Douglas Brown, Wolfgang Christian, Robert M Hanson, 2023 <br>\n",
    "[2] Isaac Newton, Philosophiæ naturalis principia mathematica, (1687).  <br>\n",
    "\n",
    "\n",
    "\n",
    "\n",
    "\n",
    "<!-- En labrapport som denne vil typisk inneholde et *lite* antall referanser. Av den grunn\n",
    "er det greit å nummerere disse manuelt. Hvis du sjekker ulike\n",
    "tidsskrifter, vil du se at ulike konvensjoner for formatering av referanser benyttes.\n",
    "Det viktige er at referanselista formateres systematisk. Nedenfor viser vi eksempler på\n",
    "henvisning til tidsskriftartikler, bok og url, med formatering\n",
    "som benyttet i tidsskriftet Physical Review Letters: <br>\n",
    "\n",
    "[1] D. Xiao, W. Yao, and Q. Niu, Valley-Contrasting Physics in Graphene: Magnetic Moment and Topological Transport, Phys. Rev. Lett. <b>99</b>, 236809 (2007).  <br>\n",
    "\n",
    "[2] D. Xiao, M.-C. Chang, and Q. Niu, Berry phase effects on electronic properties, \n",
    "Rev. Mod. Phys. <b>82</b>, 1959 (2010).  <br>\n",
    "\n",
    "[3] T. Ihn, <i>Semiconductor Nanostructures: Quantum States and\n",
    "Electronic Transport</i> (Oxford University Press, New York,\n",
    "2010). <br>\n",
    "\n",
    "[4] See Supplemental Materials at\n",
    "<a href=\"http://link.aps.org/supplemental/10.1103/PhysRevLett.128.067702\">\n",
    "link.aps.org/supplemental/10.1103/PhysRevLett.128.067702</a>.\n",
    "<br><br>\n",
    "\n",
    "Til sammenligning, et par referanser fra en artikkel i Chemical Reviews: <br>\n",
    "\n",
    "(1) Ayyagari, A. V.; Gwalani, B.; Muskeri, S.; Mukherjee, S.;\n",
    "Banerjee, R. Surface degradation mechanisms in precipitationhardened high-entropy alloys. *npj Materials Degradation* <b>2018</b>, *2*, 33.  <br>\n",
    "(2) Frankel, G. S.; Vienna, J. D.; Lian, J.; Scully, J. R.; Gin, S.; Ryan,\n",
    "J. V.; Wang, J.; Kim, S. H.; Windl, W.; Du, J. A comparative review of\n",
    "the aqueous corrosion of glasses, crystalline ceramics, and metals. *npj\n",
    "Materials Degradation* <b>2018</b>, *2*, 15. <br>\n",
    "\n",
    "Små, men *mange* forskjeller: type parentes i referansenummeret; plassering, parentesbruk og \n",
    "font for årstall; plassering av forbokstav i fornavn; *and* eller ikke *and* foran sistnevnte \n",
    "av tre eller flere forfattere. Ubetydelige valg i seg selv, men viktig at alt gjøres *systematisk*. -->\n"
   ]
  }
 ],
 "metadata": {
  "kernelspec": {
   "display_name": "Python 3 (ipykernel)",
   "language": "python",
   "name": "python3"
  },
  "language_info": {
   "codemirror_mode": {
    "name": "ipython",
    "version": 3
   },
   "file_extension": ".py",
   "mimetype": "text/x-python",
   "name": "python",
   "nbconvert_exporter": "python",
   "pygments_lexer": "ipython3",
   "version": "3.11.1"
  }
 },
 "nbformat": 4,
 "nbformat_minor": 5
}
