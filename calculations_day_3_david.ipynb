{
 "cells": [
  {
   "cell_type": "code",
   "execution_count": 2,
   "metadata": {},
   "outputs": [
    {
     "name": "stdout",
     "output_type": "stream",
     "text": [
      "avg time: 1.3067 s, std_error: 0.01227 s\n",
      "avg end velocity: 1.7075 m / s, std_error: 0.01663 m / s\n",
      "avg end kinetic energy: 0.04524 J, std_error: 0.00089 J\n",
      "avg loss of energy: 0.01528 J, std_error: 0.00089 J\n",
      "[0.01611789 0.01913789 0.00951789 0.01186789 0.01523789 0.01831789\n",
      " 0.01545789 0.01600789 0.01351789 0.01762789]\n"
     ]
    }
   ],
   "source": [
    "import numpy as np\n",
    "\n",
    "\n",
    "potential_energy_start = 0.06051789\n",
    "\n",
    "rolling_time = np.array([1.367, 1.333, 1.334, 1.366, 1.266, 1.267, 1.300, 1.300, 1.267, 1.267])\n",
    "end_velocity = np.array([1.692, 1.634, 1.814, 1.772, 1.709, 1.650, 1.705, 1.694, 1.741, 1.664])\n",
    "kinetic_energy_end = np.array([4.44e-2, 4.138e-2, 5.100e-2, 4.865e-2, 4.528e-2, 4.220e-2, 4.506e-2, 4.451e-2, 4.700e-2, 4.289e-2])\n",
    "mechanical_energy_loss = potential_energy_start - kinetic_energy_end\n",
    "\n",
    "avg_time = np.average(rolling_time)\n",
    "avg_velocity = np.average(end_velocity)\n",
    "avg_kinetic_energy = np.average(kinetic_energy_end)\n",
    "avg_mechanical_energy_loss = np.average(mechanical_energy_loss)\n",
    "\n",
    "stderr_time = np.std(rolling_time) / np.sqrt(10)\n",
    "stderr_end_velocity = np.std(end_velocity) / np.sqrt(10)\n",
    "stderr_kinetic_energy_end = np.std(kinetic_energy_end) / np.sqrt(10)\n",
    "stderr_mechanical_energy_loss = np.std(mechanical_energy_loss) / np.sqrt(10)\n",
    "\n",
    "print(f\"avg time: {round(avg_time, 5)} s, std_error: {round(stderr_time, 5)} s\")\n",
    "print(f\"avg end velocity: {round(avg_velocity, 5)} m / s, std_error: {round(stderr_end_velocity, 5)} m / s\")\n",
    "print(f\"avg end kinetic energy: {round(avg_kinetic_energy, 5)} J, std_error: {round(stderr_kinetic_energy_end, 5)} J\")\n",
    "print(f\"avg loss of energy: {round(avg_mechanical_energy_loss, 5)} J, std_error: {round(stderr_mechanical_energy_loss, 5)} J\")\n",
    "print(mechanical_energy_loss)"
   ]
  }
 ],
 "metadata": {
  "kernelspec": {
   "display_name": "Python 3",
   "language": "python",
   "name": "python3"
  },
  "language_info": {
   "codemirror_mode": {
    "name": "ipython",
    "version": 3
   },
   "file_extension": ".py",
   "mimetype": "text/x-python",
   "name": "python",
   "nbconvert_exporter": "python",
   "pygments_lexer": "ipython3",
   "version": "3.10.11"
  },
  "orig_nbformat": 4
 },
 "nbformat": 4,
 "nbformat_minor": 2
}
