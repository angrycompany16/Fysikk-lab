{
 "cells": [
  {
   "cell_type": "code",
   "execution_count": null,
   "metadata": {},
   "outputs": [],
   "source": []
  },
  {
   "attachments": {},
   "cell_type": "markdown",
   "metadata": {},
   "source": [
    "\"# *Dag 1:*\\n\",\n",
    "    \"- Brukte tid på å laste ned og lage git filer. \\n\",\n",
    "    \"- Vi har valgt å bruke github\\n\",\n",
    "\n",
    "    \"# **Dag 2:**\\n\",\n",
    "    \"### Punkter for dagen\\n\",\n",
    "    \"- Kjør jupyterkode for å finne baneform\\n\",\n",
    "    \"- Finn farten v(x) og sluttfart\\n\",\n",
    "    \"- Finn kinetisk energi i sluttpunktet\\n\",\n",
    "    \"- Finn helningsvinkelen\\n\",\n",
    "    \"- Bruk tidsutvikling for å finne total rulletid\\n\",\n",
    "    \"- Finn Normalkraft N(x)\\n\",\n",
    "    \"- Finn friksjonskraft F(x)\\n\",\n",
    "    \"- Finn |F(x)/N(x)|\\n\",\n",
    "    \"\\n\",\n",
    "    \"### **Initielle Antagelser gjordt**\\n\",\n",
    "    \"\\n\",\n",
    "    \"- Banen y(x) har en krumningsradius som er mye større enn kulas radius, derfor vil kulas bevegelse være tilnærmet lik y(x) bare litt forskjøvet.\\n\",\n",
    "    \"- CM følger samme kurveform som banen y(x)\\n\",\n",
    "    \"- Objekt er en kompakt kule med uniform massefordeling\\n\",\n",
    "    \"- Kula ruller rent, det vil si at kula glir ikke på non pukter på banen. \\n\",\n",
    "    \"\\n\",\n",
    "    \"## *Relevante formler brukt*\\n\",\n",
    "    \"### *Treghetsmomentet til objekt mhp rotasjonsakse*\\n\",\n",
    "    \"- I0 = c*m*r^^2\\n\",\n",
    "    \"- Note: r er avstand mellom kontaktpunkt til bane y(x) og massesenteret CM til objektet\\n\",\n",
    "    \"- c = 2/5 --massefordeling??? __Noen dobbeltskjekk dette__\\n\",\n",
    "    \"- m tilnærmet lik 31 * 10^^-3 kg --Objektets masse\\n\",\n",
    "    \"- r = 11 * 10^^-3 m --Objektets radius\\n\",\n",
    "    \"\\n\",\n",
    "    \"## Initiell tilstand, energiutvikling, hastighet og aksellerasjon\\n\",\n",
    "    \"### *Antagelse*\\n\",\n",
    "    \"- Kula starter fra ro, energien er derfor kun potensiell.\\n\",\n",
    "    \"- y(0) = U0 = y0\\n\",\n",
    "    \"- U er kulas potensielle energi\\n\",\n",
    "    \"- U = 0 når y = 0, det er ingen potensiell energi i bunnpunktet.\\n\",\n",
    "    \"### *Formler og Utledning*\\n\",\n",
    "    \"- Det er antatt at energien er bevart, det vil si at hastighetsutviklingen gjennom banen y(x) kan hentes fra energioverføringen mellom kinetisk og potensiell energi.\\n\",\n",
    "    \"- Total kinetisk energi er summen av translasjonsenergien (1/2)*mv^^2 og rotasjonsenergien cmv^^2 /2\\n\",\n",
    "    \"- Total kinetisk energi er (1+c)/2 * mv^^2\\n\",\n",
    "    \"\\n\",\n",
    "    \"\\n\",\n",
    "    \"## Tidsutvikling\\n\",\n",
    "    \"Prinsippet for mekanisk energi er utledet fra Newtons 2. Lov. Dette fører til at tidsaspektet forsvinner fra utrykket. Eulers eksplisitt er derfor brukt for å finne informasjon om tidsutviklingen til s(t) og andre relevante størrelser. \\n\",\n",
    "    \"\\n\",\n",
    "    \"\\n\",\n",
    "    "
   ]
  },
  {
   "attachments": {},
   "cell_type": "markdown",
   "metadata": {},
   "source": [
    "## *DAG 3*\n",
    "Økt 3: Eksperiment. Filme (minst) 10 rulleforsøk. Måle kulas bevegelse i «sporingsprogrammet» tracker. Beregne rulletid, sluttfart og tap i mekanisk energi med middelverdi og usikkerhet (standardfeil). Sammenligne eksperimenter og numerikk.\n",
    "dagsplan\n",
    "### **Dagsplan**\n",
    "- Sett opp baneform\n",
    "- Ta testvideo skjekk at ballen trackes i tracker\n",
    "- Film forsøket 10 ganger\n",
    "- Finn rulletid og sluttfart for alle\n",
    "- Beregn total kinetisk energi i sluttpunktet og tapet av den kinetiske energien i banen\n",
    "- Finn middelverdi og standardfeil for alt\n",
    "\n",
    "\n"
   ]
  }
 ],
 "metadata": {
  "language_info": {
   "name": "python"
  },
  "orig_nbformat": 4
 },
 "nbformat": 4,
 "nbformat_minor": 2
}
