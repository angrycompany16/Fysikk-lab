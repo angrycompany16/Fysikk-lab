{
 "cells": [
  {
<<<<<<< HEAD
   "cell_type": "code",
   "execution_count": null,
   "metadata": {},
   "outputs": [],
   "source": []
  }
 ],
 "metadata": {
  "language_info": {
   "name": "python"
  },
  "orig_nbformat": 4
=======
   "attachments": {},
   "cell_type": "markdown",
   "metadata": {},
   "source": [
    "# *Dag 1:*\n",
    "- Brukte tid på å laste ned og lage git filer. \n",
    "- Vi har valgt å bruke github\n"
   ]
  },
  {
   "attachments": {},
   "cell_type": "markdown",
   "metadata": {},
   "source": [
    "# **Dag 2:**\n",
    "### Punkter for dagen\n",
    "- Kjør jupyterkode for å finne baneform\n",
    "- Finn farten v(x) og sluttfart\n",
    "- Finn kinetisk energi i sluttpunktet\n",
    "- Finn helningsvinkelen\n",
    "- Bruk tidsutvikling for å finne total rulletid\n",
    "- Finn Normalkraft N(x)\n",
    "- Finn friksjonskraft F(x)\n",
    "- Finn |F(x)/N(x)|\n",
    "\n",
    "### **Initielle Antagelser gjordt**\n",
    "\n",
    "- Banen y(x) har en krumningsradius som er mye større enn kulas radius, derfor vil kulas bevegelse være tilnærmet lik y(x) bare litt forskjøvet.\n",
    "- CM følger samme kurveform som banen y(x)\n",
    "- Objekt er en kompakt kule med uniform massefordeling\n",
    "- Kula ruller rent, det vil si at kula glir ikke på non pukter på banen. \n",
    "\n",
    "## *Relevante formler brukt*\n",
    "### *Treghetsmomentet til objekt mhp rotasjonsakse*\n",
    "- I0 = c*m*r^^2\n",
    "- Note: r er avstand mellom kontaktpunkt til bane y(x) og massesenteret CM til objektet\n",
    "- c = 2/5 --massefordeling??? __Noen dobbeltskjekk dette__\n",
    "- m tilnærmet lik 31 * 10^^-3 kg --Objektets masse\n",
    "- r = 11 * 10^^-3 m --Objektets radius\n",
    "\n",
    "## Initiell tilstand, energiutvikling, hastighet og aksellerasjon\n",
    "### *Antagelse*\n",
    "- Kula starter fra ro, energien er derfor kun potensiell.\n",
    "- y(0) = U0 = y0\n",
    "- U er kulas potensielle energi\n",
    "- U = 0 når y = 0, det er ingen potensiell energi i bunnpunktet.\n",
    "### *Formler og Utledning*\n",
    "- Det er antatt at energien er bevart, det vil si at hastighetsutviklingen gjennom banen y(x) kan hentes fra energioverføringen mellom kinetisk og potensiell energi.\n",
    "- Total kinetisk energi er summen av translasjonsenergien (1/2)*mv^^2 og rotasjonsenergien cmv^^2 /2\n",
    "- Total kinetisk energi er (1+c)/2 * mv^^2\n",
    "\n",
    "\n",
    "## Tidsutvikling\n",
    "Prinsippet for mekanisk energi er utledet fra Newtons 2. Lov. Dette fører til at tidsaspektet forsvinner fra utrykket. Eulers eksplisitt er derfor brukt for å finne informasjon om tidsutviklingen til s(t) og andre relevante størrelser. \n",
    "\n",
    "\n"
   ]
  }
 ],
 "metadata": {
  "kernelspec": {
   "display_name": "Python 3",
   "language": "python",
   "name": "python3"
  },
  "language_info": {
   "name": "python",
   "version": "3.9.6"
  },
  "orig_nbformat": 4,
  "vscode": {
   "interpreter": {
    "hash": "31f2aee4e71d21fbe5cf8b01ff0e069b9275f58929596ceb00d14d90e3e16cd6"
   }
  }
>>>>>>> 4184bf8b99ba9f3cea779087de52781cad06ed55
 },
 "nbformat": 4,
 "nbformat_minor": 2
}
