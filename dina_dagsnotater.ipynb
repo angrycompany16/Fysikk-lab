{
 "cells": [
  {
   "attachments": {},
   "cell_type": "markdown",
   "metadata": {},
   "source": [
    "*Dag 1:*\n",
    "- Brukte tid på å laste ned og lage git filer. \n",
    "- Vi har valgt å bruke github\n"
   ]
  },
  {
   "attachments": {},
   "cell_type": "markdown",
   "metadata": {},
   "source": [
    "# **Dag 2:**\n",
    "## *Relevante formler brukt*\n",
    "### *Treghetsmomentet til objekt mhp rotasjonsakse*\n",
    "- I0 = c*m*r^^2\n",
    "- Note: r er avstand mellom kontaktpunkt til bane y(x) og massesenteret CM til objektet\n",
    "\n",
    "### **Antagelser gjordt**\n",
    "- Objekt er en kompakt kule med uniform massefordeling\n",
    "- CM følger samme kurveform som banen y(x)\n",
    "- c = 2/5\n",
    "- m er tilnærmet lik 31g --> 31 * 10^^-3 kg\n",
    "- r = 11 * 10^^-3 m\n"
   ]
  }
 ],
 "metadata": {
  "kernelspec": {
   "display_name": "Python 3",
   "language": "python",
   "name": "python3"
  },
  "language_info": {
   "name": "python",
   "version": "3.9.6"
  },
  "orig_nbformat": 4,
  "vscode": {
   "interpreter": {
    "hash": "31f2aee4e71d21fbe5cf8b01ff0e069b9275f58929596ceb00d14d90e3e16cd6"
   }
  }
 },
 "nbformat": 4,
 "nbformat_minor": 2
}
